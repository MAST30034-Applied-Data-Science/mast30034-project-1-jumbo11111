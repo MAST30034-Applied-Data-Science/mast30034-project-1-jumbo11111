{
 "cells": [
  {
   "cell_type": "code",
   "execution_count": null,
   "outputs": [],
   "source": [
    "!pip3 install seaborn\n",
    "!pip3 install geopandas"
   ],
   "metadata": {
    "collapsed": false,
    "pycharm": {
     "name": "#%%\n"
    }
   }
  },
  {
   "cell_type": "code",
   "execution_count": null,
   "outputs": [],
   "source": [
    "import seaborn as sns\n",
    "import matplotlib.pyplot as plt\n",
    "import pandas as pd"
   ],
   "metadata": {
    "collapsed": false,
    "pycharm": {
     "name": "#%%\n"
    }
   }
  },
  {
   "cell_type": "code",
   "execution_count": null,
   "outputs": [],
   "source": [
    "data = pd.read_csv('../data/curated/processed.csv')"
   ],
   "metadata": {
    "collapsed": false,
    "pycharm": {
     "name": "#%%\n"
    }
   }
  },
  {
   "cell_type": "code",
   "execution_count": null,
   "outputs": [],
   "source": [
    "CORR_COLS = [\"passenger_count\", \"trip_distance\", \"fare_amount\", \"extra\",\n",
    "             \"mta_tax\", \"tip_amount\", \"total_amount\", \"week\", \"trip_time\", \"weekday\", \"starting_hour\",\"ending_hour\",\"PULocationID\",\"DOLocationID\"]\n",
    "fig, axs = plt.subplots(nrows=1, ncols=1, figsize=(8, 6))\n",
    "sns.heatmap(data[CORR_COLS].corr(),ax=axs)"
   ],
   "metadata": {
    "collapsed": false,
    "pycharm": {
     "name": "#%%\n"
    }
   }
  },
  {
   "cell_type": "code",
   "execution_count": null,
   "outputs": [],
   "source": [
    "# plot the Counts to Whether the Passenger Give Tips\n",
    "cleaned[cleaned_data['tip_amount']==0].count()"
   ],
   "metadata": {
    "collapsed": false,
    "pycharm": {
     "name": "#%%\n"
    }
   }
  },
  {
   "cell_type": "code",
   "execution_count": null,
   "outputs": [],
   "source": [
    "WEATHER_COL = [\"tip_amount\",\"feelslike\",\"humidity\",\"windspeed\",\"visibility\",\"solarradiation\",\"conditions_Clear\",\"conditions_Partially cloudy\",\"conditions_Rain, Overcast\",\"conditions_Rain, Partially cloudy\",\"conditions_Snow, Rain, Overcast\",\"conditions_Snow, Rain, Partially cloudy\"]\n",
    "fig, axs = plt.subplots(nrows=1, ncols=1, figsize=(8, 6))\n",
    "sns.heatmap(data[WEATHER_COL].corr(),ax=axs)"
   ],
   "metadata": {
    "collapsed": false,
    "pycharm": {
     "name": "#%%\n"
    }
   }
  },
  {
   "cell_type": "code",
   "execution_count": null,
   "outputs": [],
   "source": [
    "weather_feature = ['windspeed','visibility','temp','humidity']\n",
    "fig, ((ax1, ax2), (ax3, ax4)) = plt.subplots(2,2, figsize=(15,10))\n",
    "axs = [ax1, ax2, ax3, ax4]\n",
    "for feature, ax in zip(weather_feature, axs):\n",
    "    sns.distplot(weather_data[feature], ax=ax, bins=20)\n",
    "#plt.suptitle('Weather Feature Distribution',fontsize=30,y=0.95)\n",
    "plt.show()\n"
   ],
   "metadata": {
    "collapsed": false,
    "pycharm": {
     "name": "#%%\n"
    }
   }
  },
  {
   "cell_type": "code",
   "execution_count": null,
   "outputs": [],
   "source": [
    "fig, ((ax1, ax2), (ax3, ax4)) = plt.subplots(2,2, figsize=(15,10))\n",
    "axs = [ax1, ax2, ax3, ax4]\n",
    "for feature, ax in zip(weather_feature, axs):\n",
    "    data_log = np.log(weather_data[feature]+0.01)\n",
    "    sns.distplot(data_log, ax=ax, bins=20)\n",
    "#plt.suptitle('Weather Feature Log Distribution',fontsize=30,y=0.95)\n",
    "plt.show()"
   ],
   "metadata": {
    "collapsed": false,
    "pycharm": {
     "name": "#%%\n"
    }
   }
  },
  {
   "cell_type": "code",
   "execution_count": null,
   "outputs": [],
   "source": [
    "taxi_feature = ['fare_amount','tip_amount']\n",
    "fig, (ax1, ax2) = plt.subplots(1,2, figsize=(8,2))\n",
    "axs = [ax1, ax2, ax3, ax4]\n",
    "for feature, ax in zip(taxi_feature, axs):\n",
    "    sns.distplot(cleaned[feature], ax=ax, bins=20)\n",
    "#plt.suptitle('Taxi Fare Distribution',fontsize=30,y=0.95)\n",
    "plt.show()"
   ],
   "metadata": {
    "collapsed": false,
    "pycharm": {
     "name": "#%%\n"
    }
   }
  },
  {
   "cell_type": "code",
   "execution_count": null,
   "outputs": [],
   "source": [
    "# trip freq by hour\n",
    "plt.figure(figsize=(9, 6))\n",
    "count = data.groupby(\"starting_hour\").count()[\"tpep_pickup_datetime\"]\n",
    "plt.plot(count.index, count)\n",
    "plt.ylabel(\"Time\")\n",
    "plt.xlabel(\"Hours\")\n",
    "plt.title('Frequency of Trip in each Hour')\n",
    "plt.savefig('Frequency of Trip in each Hour.png')\n",
    "plt.show()"
   ],
   "metadata": {
    "collapsed": false,
    "pycharm": {
     "name": "#%%\n"
    }
   }
  },
  {
   "cell_type": "code",
   "execution_count": null,
   "outputs": [],
   "source": [
    "# trip freq by week day\n",
    "plt.figure(figsize=(9, 6))\n",
    "count = data.groupby(\"weekday\").count()[\"tpep_pickup_datetime\"]\n",
    "index = ['Sun', 'Mon', 'Tue', 'Wed','Thu','Fri','Sat']\n",
    "plt.plot(index, count)\n",
    "plt.ylabel(\"Time\")\n",
    "plt.xlabel(\"Day\")\n",
    "plt.title('Frequency of Trip in each Day in week')\n",
    "plt.savefig('Frequency of Trip in each Day in week.png')\n",
    "plt.show()"
   ],
   "metadata": {
    "collapsed": false,
    "pycharm": {
     "name": "#%%\n"
    }
   }
  },
  {
   "cell_type": "code",
   "execution_count": null,
   "outputs": [],
   "source": [
    "# average trip by weather\n",
    "plt.figure(figsize=(9, 6))\n",
    "ave_trip = data.groupby(\"conditions\").count()[\"tpep_pickup_datetime\"]\n",
    "#plt.title('Average tip by weather conditions')\n",
    "sns.barplot(ave_trip.index, ave_trip)"
   ],
   "metadata": {
    "collapsed": false,
    "pycharm": {
     "name": "#%%\n"
    }
   }
  },
  {
   "cell_type": "code",
   "execution_count": null,
   "outputs": [],
   "source": [
    "# average tip by weather\n",
    "plt.figure(figsize=(9, 6))\n",
    "ave_tip = data.groupby(\"conditions\").sum()['tip_amount']/data.groupby(\"conditions\").count()[\"tpep_pickup_datetime\"]\n",
    "#plt.title('Average tip by weather conditions')\n",
    "sns.barplot(ave_tip.index, ave_tip)\n",
    "plt.xticks(rotation=45)"
   ],
   "metadata": {
    "collapsed": false,
    "pycharm": {
     "name": "#%%\n"
    }
   }
  },
  {
   "cell_type": "code",
   "execution_count": null,
   "outputs": [],
   "source": [
    "# average tip by hour\n",
    "plt.figure(figsize=(9, 6))\n",
    "ave_tip = data.groupby(\"starting_hour\").sum()['tip_amount']/data.groupby(\"starting_hour\").count()[\"tpep_pickup_datetime\"]\n",
    "plt.title('Average tip by hour')\n",
    "sns.barplot(ave_tip.index, ave_tip)"
   ],
   "metadata": {
    "collapsed": false,
    "pycharm": {
     "name": "#%%\n"
    }
   }
  },
  {
   "cell_type": "code",
   "execution_count": null,
   "outputs": [],
   "source": [
    "# average tip by hour\n",
    "plt.figure(figsize=(9, 6))\n",
    "ave_tip = data.groupby(\"weekday\").sum()['tip_amount']/data.groupby(\"weekday\").count()[\"tpep_pickup_datetime\"]\n",
    "plt.title('Average tip by weekday')\n",
    "sns.barplot(['Sun', 'Mon', 'Tue', 'Wed','Thu','Fri','Sat'], ave_tip)"
   ],
   "metadata": {
    "collapsed": false,
    "pycharm": {
     "name": "#%%\n"
    }
   }
  },
  {
   "cell_type": "code",
   "execution_count": null,
   "outputs": [],
   "source": [
    "import geopandas as gpd\n",
    "\n",
    "# sf stands for shape file\n",
    "sf = gpd.read_file(\"../data/raw/taxi_zones.shp\")\n",
    "zone = pd.read_csv(\"../data/raw/taxi+_zone_lookup.csv\")\n",
    "\n",
    "# Convert the geometry shaape to to latitude and longitude\n",
    "sf['geometry'] = sf['geometry'].to_crs(\"+proj=longlat +ellps=WGS84 +datum=WGS84 +no_defs\")"
   ],
   "metadata": {
    "collapsed": false,
    "pycharm": {
     "name": "#%%\n"
    }
   }
  },
  {
   "cell_type": "code",
   "execution_count": null,
   "outputs": [],
   "source": [
    "DO_count = data['DOLocationID'].value_counts().sort_index()\n",
    "DO_count = pd.DataFrame({\"LocationID\":DO_count.index, \"DO_Count\":DO_count})\n",
    "gdf = gpd.GeoDataFrame(pd.merge(DO_count, sf, left_on='LocationID', right_on='LocationID')).drop('LocationID', axis=1)\n",
    "gdf.sort_values(\"DO_Count\",ascending=False)"
   ],
   "metadata": {
    "collapsed": false,
    "pycharm": {
     "name": "#%%\n"
    }
   }
  },
  {
   "cell_type": "code",
   "execution_count": null,
   "outputs": [],
   "source": [
    "# plot the map showing drop off locations\n",
    "variable = 'DO_Count'\n",
    "vmin, vmax = 0, gdf['DO_Count'].max()\n",
    "fig, ax = plt.subplots(1, figsize=(11,11))\n",
    "ax.set_title('Average Dropoff in each Region')\n",
    "sn = plt.cm.ScalarMappable(cmap='Blues', norm=plt.Normalize(vmin=vmin, vmax=vmax))\n",
    "sn.set_array([])\n",
    "fig.colorbar(sn)\n",
    "gdf.plot(column=variable, cmap='Blues', linewidth=1.5, ax=ax, edgecolor='0.4')\n",
    "plt.savefig('Average Dropoff in each Region.png')\n",
    "plt.show()"
   ],
   "metadata": {
    "collapsed": false,
    "pycharm": {
     "name": "#%%\n"
    }
   }
  },
  {
   "cell_type": "code",
   "execution_count": null,
   "outputs": [],
   "source": [
    "fare_region = data.groupby('PULocationID')['fare_amount'].sum()/data['PULocationID'].value_counts().sort_index()\n",
    "fare_region = pd.DataFrame({\"LocationID\":fare_region.index, \"fare_region\":fare_region})\n",
    "gdf = gpd.GeoDataFrame(pd.merge(fare_region, sf, left_on='LocationID', right_on='LocationID')).drop('LocationID', axis=1)\n",
    "top_10 = gdf.sort_values(\"fare_region\",ascending=False)[:10]\n",
    "top_10"
   ],
   "metadata": {
    "collapsed": false,
    "pycharm": {
     "name": "#%%\n"
    }
   }
  },
  {
   "cell_type": "code",
   "execution_count": null,
   "outputs": [],
   "source": [
    "# plot the map showing ave tip in each region\n",
    "variable = 'fare_region'\n",
    "vmin, vmax = 0, gdf['fare_region'].max()\n",
    "fig, ax = plt.subplots(1, figsize=(11,11))\n",
    "ax.set_title('Average Fare per Trip in each Region')\n",
    "sn = plt.cm.ScalarMappable(cmap='Oranges', norm=plt.Normalize(vmin=vmin, vmax=vmax))\n",
    "sn.set_array([])\n",
    "fig.colorbar(sn)\n",
    "gdf.plot(column=variable, cmap='Oranges', linewidth=1.5, ax=ax, edgecolor='0.4')\n",
    "plt.savefig('Average Fare per Trip in each Region.png')\n",
    "plt.show()"
   ],
   "metadata": {
    "collapsed": false,
    "pycharm": {
     "name": "#%%\n"
    }
   }
  },
  {
   "cell_type": "code",
   "execution_count": null,
   "outputs": [],
   "source": [
    "tip_region = data.groupby('PULocationID')['tip_amount'].sum()/data['PULocationID'].value_counts().sort_index()\n",
    "tip_region = pd.DataFrame({\"LocationID\":tip_region.index, \"tip_region\":tip_region})\n",
    "gdf = gpd.GeoDataFrame(pd.merge(tip_region, sf, left_on='LocationID', right_on='LocationID')).drop('LocationID', axis=1)\n",
    "top_10 = gdf.sort_values(\"tip_region\",ascending=False)[:10]\n",
    "top_10"
   ],
   "metadata": {
    "collapsed": false,
    "pycharm": {
     "name": "#%%\n"
    }
   }
  },
  {
   "cell_type": "code",
   "execution_count": null,
   "outputs": [],
   "source": [
    "# plot the map showing ave tip in each region\n",
    "variable = 'tip_region'\n",
    "vmin, vmax = 0, gdf['tip_region'].max()\n",
    "fig, ax = plt.subplots(1, figsize=(11,11))\n",
    "ax.set_title('Average Tip per Trip in each Region')\n",
    "sn = plt.cm.ScalarMappable(cmap='Greens', norm=plt.Normalize(vmin=vmin, vmax=vmax))\n",
    "sn.set_array([])\n",
    "fig.colorbar(sn)\n",
    "gdf.plot(column=variable, cmap='Greens', linewidth=1.5, ax=ax, edgecolor='0.4')\n",
    "plt.savefig('Average Tip per Trip in each Region.png')\n",
    "plt.show()"
   ],
   "metadata": {
    "collapsed": false,
    "pycharm": {
     "name": "#%%\n"
    }
   }
  },
  {
   "cell_type": "code",
   "execution_count": null,
   "outputs": [],
   "source": [],
   "metadata": {
    "collapsed": false,
    "pycharm": {
     "name": "#%%\n"
    }
   }
  }
 ],
 "metadata": {
  "kernelspec": {
   "display_name": "Python 3",
   "language": "python",
   "name": "python3"
  },
  "language_info": {
   "codemirror_mode": {
    "name": "ipython",
    "version": 2
   },
   "file_extension": ".py",
   "mimetype": "text/x-python",
   "name": "python",
   "nbconvert_exporter": "python",
   "pygments_lexer": "ipython2",
   "version": "2.7.6"
  }
 },
 "nbformat": 4,
 "nbformat_minor": 0
}